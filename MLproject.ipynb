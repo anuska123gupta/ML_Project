{
  "nbformat": 4,
  "nbformat_minor": 0,
  "metadata": {
    "colab": {
      "provenance": []
    },
    "kernelspec": {
      "name": "python3",
      "display_name": "Python 3"
    },
    "language_info": {
      "name": "python"
    }
  },
  "cells": [
    {
      "cell_type": "code",
      "source": [
        "import pandas as pd\n",
        "import numpy as np\n",
        "import re\n",
        "import string\n",
        "import nltk\n",
        "from nltk.corpus import stopwords\n",
        "from nltk.stem import WordNetLemmatizer\n",
        "from sklearn.preprocessing import LabelEncoder"
      ],
      "metadata": {
        "id": "lvZbSTdPtBAP"
      },
      "execution_count": null,
      "outputs": []
    },
    {
      "cell_type": "code",
      "source": [
        "from google.colab import files\n",
        "uploaded = files.upload()"
      ],
      "metadata": {
        "colab": {
          "base_uri": "https://localhost:8080/",
          "height": 73
        },
        "id": "-jV8pzaLt00j",
        "outputId": "04d7d29f-a7a6-4022-ccf1-90e30ef263e7"
      },
      "execution_count": null,
      "outputs": [
        {
          "output_type": "display_data",
          "data": {
            "text/plain": [
              "<IPython.core.display.HTML object>"
            ],
            "text/html": [
              "\n",
              "     <input type=\"file\" id=\"files-306964fd-7912-4642-8e19-ac16b1dedeca\" name=\"files[]\" multiple disabled\n",
              "        style=\"border:none\" />\n",
              "     <output id=\"result-306964fd-7912-4642-8e19-ac16b1dedeca\">\n",
              "      Upload widget is only available when the cell has been executed in the\n",
              "      current browser session. Please rerun this cell to enable.\n",
              "      </output>\n",
              "      <script>// Copyright 2017 Google LLC\n",
              "//\n",
              "// Licensed under the Apache License, Version 2.0 (the \"License\");\n",
              "// you may not use this file except in compliance with the License.\n",
              "// You may obtain a copy of the License at\n",
              "//\n",
              "//      http://www.apache.org/licenses/LICENSE-2.0\n",
              "//\n",
              "// Unless required by applicable law or agreed to in writing, software\n",
              "// distributed under the License is distributed on an \"AS IS\" BASIS,\n",
              "// WITHOUT WARRANTIES OR CONDITIONS OF ANY KIND, either express or implied.\n",
              "// See the License for the specific language governing permissions and\n",
              "// limitations under the License.\n",
              "\n",
              "/**\n",
              " * @fileoverview Helpers for google.colab Python module.\n",
              " */\n",
              "(function(scope) {\n",
              "function span(text, styleAttributes = {}) {\n",
              "  const element = document.createElement('span');\n",
              "  element.textContent = text;\n",
              "  for (const key of Object.keys(styleAttributes)) {\n",
              "    element.style[key] = styleAttributes[key];\n",
              "  }\n",
              "  return element;\n",
              "}\n",
              "\n",
              "// Max number of bytes which will be uploaded at a time.\n",
              "const MAX_PAYLOAD_SIZE = 100 * 1024;\n",
              "\n",
              "function _uploadFiles(inputId, outputId) {\n",
              "  const steps = uploadFilesStep(inputId, outputId);\n",
              "  const outputElement = document.getElementById(outputId);\n",
              "  // Cache steps on the outputElement to make it available for the next call\n",
              "  // to uploadFilesContinue from Python.\n",
              "  outputElement.steps = steps;\n",
              "\n",
              "  return _uploadFilesContinue(outputId);\n",
              "}\n",
              "\n",
              "// This is roughly an async generator (not supported in the browser yet),\n",
              "// where there are multiple asynchronous steps and the Python side is going\n",
              "// to poll for completion of each step.\n",
              "// This uses a Promise to block the python side on completion of each step,\n",
              "// then passes the result of the previous step as the input to the next step.\n",
              "function _uploadFilesContinue(outputId) {\n",
              "  const outputElement = document.getElementById(outputId);\n",
              "  const steps = outputElement.steps;\n",
              "\n",
              "  const next = steps.next(outputElement.lastPromiseValue);\n",
              "  return Promise.resolve(next.value.promise).then((value) => {\n",
              "    // Cache the last promise value to make it available to the next\n",
              "    // step of the generator.\n",
              "    outputElement.lastPromiseValue = value;\n",
              "    return next.value.response;\n",
              "  });\n",
              "}\n",
              "\n",
              "/**\n",
              " * Generator function which is called between each async step of the upload\n",
              " * process.\n",
              " * @param {string} inputId Element ID of the input file picker element.\n",
              " * @param {string} outputId Element ID of the output display.\n",
              " * @return {!Iterable<!Object>} Iterable of next steps.\n",
              " */\n",
              "function* uploadFilesStep(inputId, outputId) {\n",
              "  const inputElement = document.getElementById(inputId);\n",
              "  inputElement.disabled = false;\n",
              "\n",
              "  const outputElement = document.getElementById(outputId);\n",
              "  outputElement.innerHTML = '';\n",
              "\n",
              "  const pickedPromise = new Promise((resolve) => {\n",
              "    inputElement.addEventListener('change', (e) => {\n",
              "      resolve(e.target.files);\n",
              "    });\n",
              "  });\n",
              "\n",
              "  const cancel = document.createElement('button');\n",
              "  inputElement.parentElement.appendChild(cancel);\n",
              "  cancel.textContent = 'Cancel upload';\n",
              "  const cancelPromise = new Promise((resolve) => {\n",
              "    cancel.onclick = () => {\n",
              "      resolve(null);\n",
              "    };\n",
              "  });\n",
              "\n",
              "  // Wait for the user to pick the files.\n",
              "  const files = yield {\n",
              "    promise: Promise.race([pickedPromise, cancelPromise]),\n",
              "    response: {\n",
              "      action: 'starting',\n",
              "    }\n",
              "  };\n",
              "\n",
              "  cancel.remove();\n",
              "\n",
              "  // Disable the input element since further picks are not allowed.\n",
              "  inputElement.disabled = true;\n",
              "\n",
              "  if (!files) {\n",
              "    return {\n",
              "      response: {\n",
              "        action: 'complete',\n",
              "      }\n",
              "    };\n",
              "  }\n",
              "\n",
              "  for (const file of files) {\n",
              "    const li = document.createElement('li');\n",
              "    li.append(span(file.name, {fontWeight: 'bold'}));\n",
              "    li.append(span(\n",
              "        `(${file.type || 'n/a'}) - ${file.size} bytes, ` +\n",
              "        `last modified: ${\n",
              "            file.lastModifiedDate ? file.lastModifiedDate.toLocaleDateString() :\n",
              "                                    'n/a'} - `));\n",
              "    const percent = span('0% done');\n",
              "    li.appendChild(percent);\n",
              "\n",
              "    outputElement.appendChild(li);\n",
              "\n",
              "    const fileDataPromise = new Promise((resolve) => {\n",
              "      const reader = new FileReader();\n",
              "      reader.onload = (e) => {\n",
              "        resolve(e.target.result);\n",
              "      };\n",
              "      reader.readAsArrayBuffer(file);\n",
              "    });\n",
              "    // Wait for the data to be ready.\n",
              "    let fileData = yield {\n",
              "      promise: fileDataPromise,\n",
              "      response: {\n",
              "        action: 'continue',\n",
              "      }\n",
              "    };\n",
              "\n",
              "    // Use a chunked sending to avoid message size limits. See b/62115660.\n",
              "    let position = 0;\n",
              "    do {\n",
              "      const length = Math.min(fileData.byteLength - position, MAX_PAYLOAD_SIZE);\n",
              "      const chunk = new Uint8Array(fileData, position, length);\n",
              "      position += length;\n",
              "\n",
              "      const base64 = btoa(String.fromCharCode.apply(null, chunk));\n",
              "      yield {\n",
              "        response: {\n",
              "          action: 'append',\n",
              "          file: file.name,\n",
              "          data: base64,\n",
              "        },\n",
              "      };\n",
              "\n",
              "      let percentDone = fileData.byteLength === 0 ?\n",
              "          100 :\n",
              "          Math.round((position / fileData.byteLength) * 100);\n",
              "      percent.textContent = `${percentDone}% done`;\n",
              "\n",
              "    } while (position < fileData.byteLength);\n",
              "  }\n",
              "\n",
              "  // All done.\n",
              "  yield {\n",
              "    response: {\n",
              "      action: 'complete',\n",
              "    }\n",
              "  };\n",
              "}\n",
              "\n",
              "scope.google = scope.google || {};\n",
              "scope.google.colab = scope.google.colab || {};\n",
              "scope.google.colab._files = {\n",
              "  _uploadFiles,\n",
              "  _uploadFilesContinue,\n",
              "};\n",
              "})(self);\n",
              "</script> "
            ]
          },
          "metadata": {}
        },
        {
          "output_type": "stream",
          "name": "stdout",
          "text": [
            "Saving email.xlsx to email.xlsx\n"
          ]
        }
      ]
    },
    {
      "cell_type": "code",
      "source": [
        "df = pd.read_excel(\"email.xlsx\")\n",
        "print(df.head())"
      ],
      "metadata": {
        "colab": {
          "base_uri": "https://localhost:8080/"
        },
        "id": "oljIUtQFuLdF",
        "outputId": "0ffdf269-4d4d-491c-eb35-c126b645eb0b"
      },
      "execution_count": null,
      "outputs": [
        {
          "output_type": "stream",
          "name": "stdout",
          "text": [
            "     EmailID             Sender  SubjectLength  BodyLength  HasAttachments  \\\n",
            "0  EMAIL8000  user0@example.com             88         494               1   \n",
            "1  EMAIL8001  user1@example.com             29        1466               1   \n",
            "2  EMAIL8002  user2@example.com             81        1399               0   \n",
            "3  EMAIL8003  user3@example.com             37        1503               0   \n",
            "4  EMAIL8004  user4@example.com             93        1546               0   \n",
            "\n",
            "   ContainsLinks  NumRecipients Priority  IsReply  ContainsSpamWords  \\\n",
            "0              1              4     High        0                  0   \n",
            "1              1              1      Low        1                  0   \n",
            "2              1              4   Normal        1                  1   \n",
            "3              0              7   Normal        0                  0   \n",
            "4              0              3     High        1                  1   \n",
            "\n",
            "   SenderReputationScore  TimeOfDay Label  \n",
            "0                   0.44      Night   Ham  \n",
            "1                   0.82      Night  Spam  \n",
            "2                   0.92  Afternoon   Ham  \n",
            "3                   0.64    Evening  Spam  \n",
            "4                   0.82    Evening  Spam  \n"
          ]
        }
      ]
    },
    {
      "cell_type": "code",
      "source": [
        "# Drop columns only if they are in the DataFrame\n",
        "columns_to_drop = ['EmailID', 'Sender', 'TimeOfDay']\n",
        "df = df.drop(columns=[col for col in columns_to_drop if col in df.columns])\n",
        "print(df.head())"
      ],
      "metadata": {
        "colab": {
          "base_uri": "https://localhost:8080/"
        },
        "id": "gE04IyjL1mcJ",
        "outputId": "7547b3b0-9ae8-471e-885f-cb4240f41f9b"
      },
      "execution_count": null,
      "outputs": [
        {
          "output_type": "stream",
          "name": "stdout",
          "text": [
            "   SubjectLength  BodyLength  HasAttachments  ContainsLinks  NumRecipients  \\\n",
            "0             88         494               1              1              4   \n",
            "1             29        1466               1              1              1   \n",
            "2             81        1399               0              1              4   \n",
            "3             37        1503               0              0              7   \n",
            "4             93        1546               0              0              3   \n",
            "\n",
            "   Priority  IsReply  ContainsSpamWords  SenderReputationScore  Label  \n",
            "0         0        0                  0                   0.44      0  \n",
            "1         1        1                  0                   0.82      1  \n",
            "2         2        1                  1                   0.92      0  \n",
            "3         2        0                  0                   0.64      1  \n",
            "4         0        1                  1                   0.82      1  \n"
          ]
        }
      ]
    },
    {
      "cell_type": "code",
      "metadata": {
        "colab": {
          "base_uri": "https://localhost:8080/"
        },
        "id": "44566521",
        "outputId": "eb7c48f6-7c1a-40bb-997e-2124f0ff7d7b"
      },
      "source": [
        "null_values = data.isnull().sum()\n",
        "print(null_values)"
      ],
      "execution_count": null,
      "outputs": [
        {
          "output_type": "stream",
          "name": "stdout",
          "text": [
            "SubjectLength            0\n",
            "BodyLength               0\n",
            "HasAttachments           0\n",
            "ContainsLinks            0\n",
            "NumRecipients            0\n",
            "Priority                 0\n",
            "IsReply                  0\n",
            "ContainsSpamWords        0\n",
            "SenderReputationScore    0\n",
            "Label                    0\n",
            "dtype: int64\n"
          ]
        }
      ]
    },
    {
      "cell_type": "code",
      "source": [
        "# Remove duplicate rows\n",
        "df = df.drop_duplicates()\n",
        "\n",
        "# Optional: Check how many rows were removed\n",
        "print(f\"Remaining rows after removing duplicates: {len(df)}\")\n",
        "print(df.head())\n"
      ],
      "metadata": {
        "colab": {
          "base_uri": "https://localhost:8080/"
        },
        "id": "DY0YkARb2IJa",
        "outputId": "23055751-7676-4020-ab29-90d8f8235b70"
      },
      "execution_count": null,
      "outputs": [
        {
          "output_type": "stream",
          "name": "stdout",
          "text": [
            "Remaining rows after removing duplicates: 399\n",
            "   SubjectLength  BodyLength  HasAttachments  ContainsLinks  NumRecipients  \\\n",
            "0             88         494               1              1              4   \n",
            "1             29        1466               1              1              1   \n",
            "2             81        1399               0              1              4   \n",
            "3             37        1503               0              0              7   \n",
            "4             93        1546               0              0              3   \n",
            "\n",
            "   Priority  IsReply  ContainsSpamWords  SenderReputationScore  Label  \n",
            "0         0        0                  0                   0.44      0  \n",
            "1         1        1                  0                   0.82      1  \n",
            "2         2        1                  1                   0.92      0  \n",
            "3         2        0                  0                   0.64      1  \n",
            "4         0        1                  1                   0.82      1  \n"
          ]
        }
      ]
    },
    {
      "cell_type": "code",
      "source": [
        "# Fill missing email body text with empty string\n",
        "df['BodyLength'] = df['BodyLength'].fillna(0)  # Assuming numeric length; use '' if it's actual text\n",
        "\n",
        "# Drop rows with missing target label\n",
        "df = df.dropna(subset=['Label'])\n",
        "print(df.head())"
      ],
      "metadata": {
        "colab": {
          "base_uri": "https://localhost:8080/"
        },
        "id": "r_-g52Gn28u7",
        "outputId": "d4c99752-5417-41cc-a6c7-0256af5252c8"
      },
      "execution_count": null,
      "outputs": [
        {
          "output_type": "stream",
          "name": "stdout",
          "text": [
            "   SubjectLength  BodyLength  HasAttachments  ContainsLinks  NumRecipients  \\\n",
            "0             88         494               1              1              4   \n",
            "1             29        1466               1              1              1   \n",
            "2             81        1399               0              1              4   \n",
            "3             37        1503               0              0              7   \n",
            "4             93        1546               0              0              3   \n",
            "\n",
            "   Priority  IsReply  ContainsSpamWords  SenderReputationScore  Label  \n",
            "0         0        0                  0                   0.44      0  \n",
            "1         1        1                  0                   0.82      1  \n",
            "2         2        1                  1                   0.92      0  \n",
            "3         2        0                  0                   0.64      1  \n",
            "4         0        1                  1                   0.82      1  \n"
          ]
        }
      ]
    },
    {
      "cell_type": "code",
      "source": [
        "# Convert all object-type (text) columns to lowercase safely\n",
        "for col in data.select_dtypes(include='object').columns:\n",
        "    data[col] = data[col].astype(str).str.lower()\n"
      ],
      "metadata": {
        "id": "9Tf77iRp5FLB"
      },
      "execution_count": null,
      "outputs": []
    },
    {
      "cell_type": "code",
      "source": [
        "# Define a function to clean text\n",
        "def clean_text(text):\n",
        "    text = str(text)                         # Ensure it's a string\n",
        "    text = text.lower()                      # Convert to lowercase\n",
        "    text = re.sub(r'\\n', ' ', text)          # Remove newline characters\n",
        "    text = re.sub(r'\\r', ' ', text)          # Remove carriage returns\n",
        "    text = re.sub(r'https?://\\S+', '', text) # Remove URLs\n",
        "    text = re.sub(r'\\d+', '', text)          # Remove numbers\n",
        "    text = re.sub(r'[^\\w\\s]', '', text)      # Remove punctuation\n",
        "    text = re.sub(r'\\s+', ' ', text)         # Remove extra whitespace\n",
        "    return text.strip()                      # Remove leading/trailing whitespace\n",
        "\n",
        "# Apply to all object-type (text) columns\n",
        "for col in data.select_dtypes(include='object').columns:\n",
        "    data[col] = data[col].apply(clean_text)"
      ],
      "metadata": {
        "id": "cZWYi8Y_6Q8-"
      },
      "execution_count": null,
      "outputs": []
    },
    {
      "cell_type": "code",
      "source": [
        "# Download necessary NLTK resources\n",
        "nltk.download('stopwords')\n",
        "nltk.download('wordnet')"
      ],
      "metadata": {
        "colab": {
          "base_uri": "https://localhost:8080/"
        },
        "id": "5_zk4bH86bAq",
        "outputId": "9c84628e-c8e0-4802-c294-88d3bb45a4d9"
      },
      "execution_count": null,
      "outputs": [
        {
          "output_type": "stream",
          "name": "stderr",
          "text": [
            "[nltk_data] Downloading package stopwords to /root/nltk_data...\n",
            "[nltk_data]   Package stopwords is already up-to-date!\n",
            "[nltk_data] Downloading package wordnet to /root/nltk_data...\n",
            "[nltk_data]   Package wordnet is already up-to-date!\n"
          ]
        },
        {
          "output_type": "execute_result",
          "data": {
            "text/plain": [
              "True"
            ]
          },
          "metadata": {},
          "execution_count": 65
        }
      ]
    },
    {
      "cell_type": "code",
      "source": [
        "# Initialize Lemmatizer and stopwords\n",
        "lemmatizer = WordNetLemmatizer()\n",
        "stop_words = set(stopwords.words('english'))"
      ],
      "metadata": {
        "id": "-l1LbZ7U6ed-"
      },
      "execution_count": null,
      "outputs": []
    },
    {
      "cell_type": "code",
      "source": [
        "def clean_text(text):\n",
        "    words = text.split()  # Tokenize text\n",
        "    lemmatized_words = [lemmatizer.lemmatize(word) for word in words]  # Lemmatize words\n",
        "    filtered_words = [word for word in lemmatized_words if word.lower() not in stop_words]  # Remove stopwords\n",
        "    return ' '.join(filtered_words)"
      ],
      "metadata": {
        "id": "rRYjCFlm6yww"
      },
      "execution_count": null,
      "outputs": []
    },
    {
      "cell_type": "code",
      "source": [
        "from sklearn.preprocessing import LabelEncoder\n",
        "\n",
        "# Initialize the label encoder\n",
        "label_encoder = LabelEncoder()\n",
        "\n",
        "# Apply label encoding to the correct target column\n",
        "data['label_encoded'] = label_encoder.fit_transform(data['Label'])\n"
      ],
      "metadata": {
        "id": "dTm0t86l7rZO"
      },
      "execution_count": null,
      "outputs": []
    },
    {
      "cell_type": "code",
      "source": [
        "from sklearn.feature_extraction.text import TfidfVectorizer\n",
        "from sklearn.model_selection import train_test_split"
      ],
      "metadata": {
        "id": "UqsoSf-i8Af7"
      },
      "execution_count": null,
      "outputs": []
    },
    {
      "cell_type": "code",
      "source": [
        "# Features: all columns except 'Label'\n",
        "X = data.drop('Label', axis=1)\n",
        "\n",
        "# Target: the 'Label' column\n",
        "y = data['Label']\n",
        "X_train, X_test, y_train, y_test = train_test_split(X, y, test_size=0.2, random_state=42)"
      ],
      "metadata": {
        "id": "A0Fz09nU8Lz7"
      },
      "execution_count": null,
      "outputs": []
    },
    {
      "cell_type": "code",
      "source": [
        "# TF-IDF Vectorization\n",
        "vectorizer = TfidfVectorizer(max_features=10000, stop_words='english')\n",
        "X_train_tfidf = vectorizer.fit_transform(X_train)\n",
        "X_test_tfidf = vectorizer.transform(X_test)"
      ],
      "metadata": {
        "id": "t1FuVvIh8sJU"
      },
      "execution_count": null,
      "outputs": []
    },
    {
      "cell_type": "code",
      "source": [
        "# Step 1: Import Libraries\n",
        "import pandas as pd\n",
        "import numpy as np\n",
        "import matplotlib.pyplot as plt\n",
        "import seaborn as sns\n",
        "from sklearn.preprocessing import StandardScaler\n",
        "from sklearn.model_selection import train_test_split\n",
        "from sklearn.neighbors import KNeighborsClassifier\n",
        "from sklearn.metrics import classification_report, confusion_matrix\n",
        "import warnings\n",
        "\n",
        "# Plot style and warning suppression\n",
        "plt.style.use('fivethirtyeight')\n",
        "warnings.filterwarnings('ignore')\n",
        "\n",
        "# Step 2: Load or simulate email dataset\n",
        "# For demonstration, let's assume 'data' is already loaded and cleaned\n",
        "# Columns: SubjectLength, BodyLength, HasAttachments, ContainsLinks, NumRecipients,\n",
        "# Priority, IsReply, ContainsSpamWords, SenderReputationScore, Label\n",
        "\n",
        "# Step 3: Feature and Target Split\n",
        "X = data.drop('Label', axis=1)\n",
        "y = data['Label']\n",
        "\n",
        "# Step 4: Feature Scaling\n",
        "scaler = StandardScaler()\n",
        "X_scaled = scaler.fit_transform(X)\n",
        "\n",
        "# Step 5: Train-Test Split\n",
        "X_train, X_test, y_train, y_test = train_test_split(\n",
        "    X_scaled, y, test_size=0.2, random_state=42\n",
        ")\n",
        "\n",
        "# Step 6: Train KNN Model\n",
        "knn = KNeighborsClassifier(n_neighbors=5)\n",
        "knn.fit(X_train, y_train)\n",
        "\n",
        "# Step 7: Predictions and Evaluation\n",
        "y_pred = knn.predict(X_test)\n",
        "\n",
        "# Confusion Matrix\n",
        "plt.figure(figsize=(6, 4))\n",
        "sns.heatmap(confusion_matrix(y_test, y_pred), annot=True, fmt='d', cmap='Blues')\n",
        "plt.title('Confusion Matrix')\n",
        "plt.xlabel('Predicted')\n",
        "plt.ylabel('Actual')\n",
        "plt.tight_layout()\n",
        "plt.show()\n",
        "\n",
        "# Classification Report\n",
        "print(\"Classification Report:\\n\")\n",
        "print(classification_report(y_test, y_pred))\n"
      ],
      "metadata": {
        "colab": {
          "base_uri": "https://localhost:8080/",
          "height": 586
        },
        "id": "1yBqVgjp8uNO",
        "outputId": "df9ca6fb-3b22-4dcd-d7b4-b9e3ae376c5c"
      },
      "execution_count": null,
      "outputs": [
        {
          "output_type": "display_data",
          "data": {
            "text/plain": [
              "<Figure size 600x400 with 2 Axes>"
            ],
            "image/png": "[encoded data removed]"
          },
          "metadata": {}
        },
        {
          "output_type": "stream",
          "name": "stdout",
          "text": [
            "Classification Report:\n",
            "\n",
            "              precision    recall  f1-score   support\n",
            "\n",
            "           0       1.00      0.98      0.99        41\n",
            "           1       0.97      1.00      0.99        39\n",
            "\n",
            "    accuracy                           0.99        80\n",
            "   macro avg       0.99      0.99      0.99        80\n",
            "weighted avg       0.99      0.99      0.99        80\n",
            "\n"
          ]
        }
      ]
    }
  ]
}